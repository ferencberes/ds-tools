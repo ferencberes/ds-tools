{
 "cells": [
  {
   "cell_type": "code",
   "execution_count": null,
   "id": "a177c066",
   "metadata": {},
   "outputs": [],
   "source": [
    "from sklearn.datasets import load_breast_cancer\n",
    "from sklearn.ensemble import RandomForestClassifier\n",
    "from sklearn.model_selection import cross_val_score\n",
    "import time"
   ]
  },
  {
   "cell_type": "code",
   "execution_count": null,
   "id": "70ea67bf",
   "metadata": {},
   "outputs": [],
   "source": [
    "X, y = load_breast_cancer(return_X_y=True)"
   ]
  },
  {
   "cell_type": "code",
   "execution_count": null,
   "id": "eb30293d",
   "metadata": {},
   "outputs": [],
   "source": [
    "X.shape"
   ]
  },
  {
   "cell_type": "markdown",
   "id": "f1d18406",
   "metadata": {},
   "source": [
    "# 1. Specifying parameter space"
   ]
  },
  {
   "cell_type": "code",
   "execution_count": null,
   "id": "2fdaf96b",
   "metadata": {},
   "outputs": [],
   "source": [
    "n_estimators_vals = [2,10,50]\n",
    "criterion_vals = ['gini', 'entropy']\n",
    "max_features_vals = [0.1, 0.9]"
   ]
  },
  {
   "cell_type": "code",
   "execution_count": null,
   "id": "a01d0da0",
   "metadata": {},
   "outputs": [],
   "source": [
    "num_trials = 20\n",
    "num_concurrent = 1\n",
    "cv_value = 5"
   ]
  },
  {
   "cell_type": "markdown",
   "id": "aaeec8e5",
   "metadata": {},
   "source": [
    "# 2. Experimenting with different frameworks"
   ]
  },
  {
   "cell_type": "markdown",
   "id": "16ea96e5",
   "metadata": {},
   "source": [
    "## Sherpa\n",
    "\n",
    "```\n",
    "conda install -c sherpa sherpa\n",
    "```\n",
    "\n",
    "How to limit number of cores?"
   ]
  },
  {
   "cell_type": "code",
   "execution_count": null,
   "id": "a7ed4413",
   "metadata": {},
   "outputs": [],
   "source": [
    "import sherpa\n",
    "import sherpa.algorithms.bayesian_optimization as bayesian_optimization"
   ]
  },
  {
   "cell_type": "code",
   "execution_count": null,
   "id": "88823041",
   "metadata": {},
   "outputs": [],
   "source": [
    "parameters = [sherpa.Discrete('n_estimators', n_estimators_vals),\n",
    "              sherpa.Choice('criterion', criterion_vals),\n",
    "              sherpa.Continuous('max_features', max_features_vals)]"
   ]
  },
  {
   "cell_type": "markdown",
   "id": "ce471636",
   "metadata": {},
   "source": [
    "algorithm = bayesian_optimization.GPyOpt(max_concurrent=num_concurrent,\n",
    "                                         model_type='GP_MCMC',\n",
    "                                         acquisition_type='EI_MCMC',\n",
    "                                         max_num_trials=num_trials)"
   ]
  },
  {
   "cell_type": "markdown",
   "id": "a9752e00",
   "metadata": {},
   "source": [
    "sherpa.algorithms.Repeat(algorithm, num_times=5, wait_for_completion=False, agg=False)"
   ]
  },
  {
   "cell_type": "markdown",
   "id": "9e90249b",
   "metadata": {},
   "source": [
    "algorithm = sherpa.algorithms.RandomSearch(max_num_trials=num_trials)"
   ]
  },
  {
   "cell_type": "markdown",
   "id": "114b246b",
   "metadata": {},
   "source": [
    "%%time\n",
    "study = sherpa.Study(parameters=parameters,\n",
    "                     algorithm=algorithm,\n",
    "                     lower_is_better=False)\n",
    "for trial in study:\n",
    "    print(\"Trial \", trial.id, \" with parameters \", trial.parameters)\n",
    "    clf = RandomForestClassifier(criterion=trial.parameters['criterion'],\n",
    "                                 max_features=trial.parameters['max_features'],\n",
    "                                 n_estimators=trial.parameters['n_estimators'],\n",
    "                                 random_state=0)\n",
    "    scores = cross_val_score(clf, X, y, cv=cv_value)\n",
    "    print(\"Score: \", scores.mean())\n",
    "    study.add_observation(trial, iteration=1, objective=scores.mean())\n",
    "    study.finalize(trial)"
   ]
  },
  {
   "cell_type": "markdown",
   "id": "a126d94b",
   "metadata": {},
   "source": [
    "CPU times: user 5h 47min 53s, sys: 50min 53s, total: 6h 38min 47s\n",
    "Wall time: 14min 1s"
   ]
  },
  {
   "cell_type": "markdown",
   "id": "d8a3f483",
   "metadata": {},
   "source": [
    "print(study.get_best_result())"
   ]
  },
  {
   "cell_type": "markdown",
   "id": "2961cf7e",
   "metadata": {},
   "source": [
    "## Optuna"
   ]
  },
  {
   "cell_type": "code",
   "execution_count": null,
   "id": "bb8ff921",
   "metadata": {},
   "outputs": [],
   "source": [
    "import optuna\n",
    "from optuna.samplers import TPESampler, RandomSampler, GridSampler"
   ]
  },
  {
   "cell_type": "code",
   "execution_count": null,
   "id": "dd544d66",
   "metadata": {},
   "outputs": [],
   "source": [
    "def objective(trial):\n",
    "    parameters = {\n",
    "        'n_estimators':trial.suggest_categorical('n_estimators', n_estimators_vals),\n",
    "        'criterion':trial.suggest_categorical('criterion', criterion_vals),\n",
    "        'max_features':trial.suggest_float(\"max_features\", max_features_vals[0], max_features_vals[-1])\n",
    "    }\n",
    "    print(\"Trial with parameters \", parameters)\n",
    "    clf = RandomForestClassifier(criterion=parameters['criterion'],\n",
    "                                 max_features=parameters['max_features'],\n",
    "                                 n_estimators=parameters['n_estimators'],\n",
    "                                 random_state=0)\n",
    "    score = cross_val_score(clf, X, y, cv=cv_value)\n",
    "    accuracy = score.mean()\n",
    "    return accuracy"
   ]
  },
  {
   "cell_type": "markdown",
   "id": "05ac5843",
   "metadata": {},
   "source": [
    "#### By default: TPESampler!"
   ]
  },
  {
   "cell_type": "code",
   "execution_count": null,
   "id": "fb2e64c2",
   "metadata": {},
   "outputs": [],
   "source": [
    "algo = TPESampler()\n",
    "#algo = RandomSampler()"
   ]
  },
  {
   "cell_type": "code",
   "execution_count": null,
   "id": "3a694a20",
   "metadata": {},
   "outputs": [],
   "source": [
    "%%time\n",
    "study = optuna.create_study(direction=\"maximize\", sampler=algo)\n",
    "study.optimize(objective, n_trials=num_trials, n_jobs=12)\n",
    "print(study.best_trial)"
   ]
  },
  {
   "cell_type": "code",
   "execution_count": null,
   "id": "8af2c642",
   "metadata": {},
   "outputs": [],
   "source": [
    "#best parameter combination\n",
    "study.best_params"
   ]
  },
  {
   "cell_type": "code",
   "execution_count": null,
   "id": "32a2a6f9",
   "metadata": {},
   "outputs": [],
   "source": [
    "#score achieved with best parameter combination\n",
    "study.best_value"
   ]
  },
  {
   "cell_type": "code",
   "execution_count": null,
   "id": "eac76cb2",
   "metadata": {},
   "outputs": [],
   "source": [
    "import joblib"
   ]
  },
  {
   "cell_type": "code",
   "execution_count": null,
   "id": "5c08568c",
   "metadata": {},
   "outputs": [],
   "source": [
    "joblib.dump(study, \"study.pkl\")"
   ]
  },
  {
   "cell_type": "code",
   "execution_count": null,
   "id": "519faa87",
   "metadata": {},
   "outputs": [],
   "source": [
    "study_loaded = joblib.load(\"study.pkl\")"
   ]
  },
  {
   "cell_type": "code",
   "execution_count": null,
   "id": "a2cf7ff9",
   "metadata": {},
   "outputs": [],
   "source": [
    "from optuna.visualization import plot_contour\n",
    "from optuna.visualization import plot_edf\n",
    "from optuna.visualization import plot_intermediate_values\n",
    "from optuna.visualization import plot_optimization_history\n",
    "from optuna.visualization import plot_parallel_coordinate\n",
    "from optuna.visualization import plot_param_importances\n",
    "from optuna.visualization import plot_slice"
   ]
  },
  {
   "cell_type": "code",
   "execution_count": null,
   "id": "818ffe2a",
   "metadata": {},
   "outputs": [],
   "source": [
    "plot_optimization_history(study_loaded)"
   ]
  },
  {
   "cell_type": "code",
   "execution_count": null,
   "id": "27085bf8",
   "metadata": {},
   "outputs": [],
   "source": [
    "plot_edf(study_loaded)"
   ]
  },
  {
   "cell_type": "code",
   "execution_count": null,
   "id": "2b703bab",
   "metadata": {},
   "outputs": [],
   "source": [
    "plot_parallel_coordinate(study_loaded)"
   ]
  },
  {
   "cell_type": "code",
   "execution_count": null,
   "id": "74fa9203",
   "metadata": {},
   "outputs": [],
   "source": [
    "plot_param_importances(study_loaded)"
   ]
  },
  {
   "cell_type": "markdown",
   "id": "69982ddb",
   "metadata": {},
   "source": [
    "## HyperOpt"
   ]
  },
  {
   "cell_type": "code",
   "execution_count": null,
   "id": "1785baf4",
   "metadata": {},
   "outputs": [],
   "source": [
    "from hyperopt import fmin, tpe, hp, STATUS_OK, Trials , space_eval"
   ]
  },
  {
   "cell_type": "code",
   "execution_count": null,
   "id": "8608ef1c",
   "metadata": {},
   "outputs": [],
   "source": [
    "def hyperopt_train_test(params):\n",
    "    clf = RandomForestClassifier(**params)\n",
    "    score = cross_val_score(clf, X, y, cv=cv_value)\n",
    "    return score.mean()\n",
    "\n",
    "space = {\n",
    "    'n_estimators': hp.choice('n_estimators', n_estimators_vals),\n",
    "    'criterion': hp.choice('criterion', criterion_vals),\n",
    "    'max_features': hp.uniform('max_features', max_features_vals[0], max_features_vals[-1]),\n",
    "}\n",
    "\n",
    "best = 0\n",
    "def f(params):\n",
    "    global best\n",
    "    acc = hyperopt_train_test(params)\n",
    "    if acc > best:\n",
    "        best = acc\n",
    "        print( 'new best:', best, params)\n",
    "    return {'loss': -acc, 'status': STATUS_OK}"
   ]
  },
  {
   "cell_type": "code",
   "execution_count": null,
   "id": "45032045",
   "metadata": {},
   "outputs": [],
   "source": [
    "%%time\n",
    "trials = Trials()\n",
    "best_config = fmin(f, space, algo=tpe.suggest, max_evals=num_trials, trials=trials)"
   ]
  },
  {
   "cell_type": "code",
   "execution_count": null,
   "id": "85737a6e",
   "metadata": {},
   "outputs": [],
   "source": [
    "print(best_config)"
   ]
  },
  {
   "cell_type": "code",
   "execution_count": null,
   "id": "4e465eae",
   "metadata": {},
   "outputs": [],
   "source": [
    "best"
   ]
  }
 ],
 "metadata": {
  "kernelspec": {
   "display_name": "Python 3",
   "language": "python",
   "name": "python3"
  },
  "language_info": {
   "codemirror_mode": {
    "name": "ipython",
    "version": 3
   },
   "file_extension": ".py",
   "mimetype": "text/x-python",
   "name": "python",
   "nbconvert_exporter": "python",
   "pygments_lexer": "ipython3",
   "version": "3.6.13"
  }
 },
 "nbformat": 4,
 "nbformat_minor": 5
}
