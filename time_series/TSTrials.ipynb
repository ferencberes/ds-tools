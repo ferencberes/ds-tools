{
 "cells": [
  {
   "cell_type": "code",
   "execution_count": 1,
   "id": "f8114976",
   "metadata": {},
   "outputs": [],
   "source": [
    "import pandas as pd\n",
    "import numpy as np"
   ]
  },
  {
   "cell_type": "code",
   "execution_count": 2,
   "id": "1d6b66ab",
   "metadata": {},
   "outputs": [],
   "source": [
    "ts_df = pd.read_csv(\"Nuclear Capacity.csv\", sep=\",\")"
   ]
  },
  {
   "cell_type": "code",
   "execution_count": 3,
   "id": "14e14dd2",
   "metadata": {},
   "outputs": [
    {
     "data": {
      "text/plain": [
       "(5225, 2)"
      ]
     },
     "execution_count": 3,
     "metadata": {},
     "output_type": "execute_result"
    }
   ],
   "source": [
    "ts_df.shape"
   ]
  },
  {
   "cell_type": "code",
   "execution_count": 4,
   "id": "1101fe61",
   "metadata": {},
   "outputs": [],
   "source": [
    "def extract_date(x):\n",
    "    parts = x.split()\n",
    "    year = parts[0]\n",
    "    month = parts[1][:2]\n",
    "    day = parts[1][2:]\n",
    "    return \"%s-%s-%s\" % (year, month, day)"
   ]
  },
  {
   "cell_type": "code",
   "execution_count": 5,
   "id": "408a12f1",
   "metadata": {},
   "outputs": [],
   "source": [
    "ts_df[\"date\"] = ts_df[\"Unnamed: 0\"].apply(extract_date)"
   ]
  },
  {
   "cell_type": "code",
   "execution_count": 6,
   "id": "17c73d77",
   "metadata": {},
   "outputs": [],
   "source": [
    "ts_df.drop(\"Unnamed: 0\", axis=1, inplace=True)"
   ]
  },
  {
   "cell_type": "code",
   "execution_count": 7,
   "id": "58740ee8",
   "metadata": {},
   "outputs": [],
   "source": [
    "ts_df.columns = [\"value\",\"date\"]"
   ]
  },
  {
   "cell_type": "code",
   "execution_count": 8,
   "id": "4238890b",
   "metadata": {},
   "outputs": [
    {
     "data": {
      "text/html": [
       "<div>\n",
       "<style scoped>\n",
       "    .dataframe tbody tr th:only-of-type {\n",
       "        vertical-align: middle;\n",
       "    }\n",
       "\n",
       "    .dataframe tbody tr th {\n",
       "        vertical-align: top;\n",
       "    }\n",
       "\n",
       "    .dataframe thead th {\n",
       "        text-align: right;\n",
       "    }\n",
       "</style>\n",
       "<table border=\"1\" class=\"dataframe\">\n",
       "  <thead>\n",
       "    <tr style=\"text-align: right;\">\n",
       "      <th></th>\n",
       "      <th>value</th>\n",
       "      <th>date</th>\n",
       "    </tr>\n",
       "  </thead>\n",
       "  <tbody>\n",
       "    <tr>\n",
       "      <th>0</th>\n",
       "      <td>101764.9</td>\n",
       "      <td>2007-01-01</td>\n",
       "    </tr>\n",
       "    <tr>\n",
       "      <th>1</th>\n",
       "      <td>101764.9</td>\n",
       "      <td>2007-01-02</td>\n",
       "    </tr>\n",
       "    <tr>\n",
       "      <th>2</th>\n",
       "      <td>101764.9</td>\n",
       "      <td>2007-01-03</td>\n",
       "    </tr>\n",
       "    <tr>\n",
       "      <th>3</th>\n",
       "      <td>101764.9</td>\n",
       "      <td>2007-01-04</td>\n",
       "    </tr>\n",
       "    <tr>\n",
       "      <th>4</th>\n",
       "      <td>101764.9</td>\n",
       "      <td>2007-01-05</td>\n",
       "    </tr>\n",
       "  </tbody>\n",
       "</table>\n",
       "</div>"
      ],
      "text/plain": [
       "      value        date\n",
       "0  101764.9  2007-01-01\n",
       "1  101764.9  2007-01-02\n",
       "2  101764.9  2007-01-03\n",
       "3  101764.9  2007-01-04\n",
       "4  101764.9  2007-01-05"
      ]
     },
     "execution_count": 8,
     "metadata": {},
     "output_type": "execute_result"
    }
   ],
   "source": [
    "ts_df.head()"
   ]
  },
  {
   "cell_type": "markdown",
   "id": "b09b7e81",
   "metadata": {},
   "source": [
    "# TODO: remove rows based on shift by!!!"
   ]
  },
  {
   "cell_type": "code",
   "execution_count": 9,
   "id": "69001be5",
   "metadata": {},
   "outputs": [
    {
     "name": "stdout",
     "output_type": "stream",
     "text": [
      "(5225, 6)\n",
      "done\n"
     ]
    }
   ],
   "source": [
    "class TSFeatureCalculator():\n",
    "    def __init__(self, df, date_col, value_col, shift_by=1, weekday_only=False):\n",
    "        self.df = df\n",
    "        self.date_col = date_col\n",
    "        self.value_col = value_col\n",
    "        self.weekday_only = weekday_only\n",
    "        self.shift_by = shift_by\n",
    "        self._preprocess()\n",
    "        \n",
    "    def _preprocess(self):\n",
    "        self.df[\"dt\"] = pd.to_datetime(self.df[self.date_col])\n",
    "        self.df[\"x\"] = self.df[self.value_col].shift(self.shift_by)\n",
    "        self.df[\"day_of_week\"] = self.df[\"dt\"].apply(lambda x: x.dayofweek)\n",
    "        self.df[\"month\"] = self.df[\"dt\"].apply(lambda x: x.month)\n",
    "        self.df[\"day_of_month\"] = self.df[\"dt\"].apply(lambda x: x.day)\n",
    "        self.df = self.df.set_index(\"dt\")\n",
    "        print(self.df.shape)\n",
    "        if self.weekday_only:\n",
    "            print(\"Excluding weekends!\")\n",
    "            self.df = self.df[self.df[\"day_of_week\"]<5]\n",
    "            print(self.df.shape)\n",
    "            \n",
    "    def generate_window_features(self, window_size=[3,7], window_stats=[\"mean\"], min_periods=None, window_type=None):\n",
    "        for window in window_size:\n",
    "            for stat in window_stats:\n",
    "                if window_type != None:\n",
    "                    col_name = \"%i%s_%s\" % (window, window_type, stat)\n",
    "                    window_setup = \"%i%s\" % (window, window_type)\n",
    "                else:\n",
    "                    col_name = \"%i_%s\" % (window, stat)\n",
    "                    window_setup = window\n",
    "                self.df[col_name] = self.df[\"x\"].rolling(window_setup, min_periods=min_periods).agg(stat)\n",
    "        print(\"done\")\n",
    "        \n",
    "class TSClassifier():\n",
    "    def __init__(self, df, target_col, missing_value=0.0, exclude=None):\n",
    "        self.df = df\n",
    "        self.target_col = target_col\n",
    "        self.exclude = exclude\n",
    "        self.missing_value = missing_value\n",
    "        self._preprocess()\n",
    "        \n",
    "    def _preprocess(self):\n",
    "        if self.exclude != None:\n",
    "            self.df = self.df.drop(self.exclude, axis=1)\n",
    "        self.df = self.df.fillna(self.missing_value)\n",
    "        self.X = self.df.drop(self.target_col, axis=1)\n",
    "        self.y = list(self.df[self.target_col])\n",
    "        \n",
    "    def temporal_train_test_split(self, test_ratio=0.3):\n",
    "        test_size = int(len(self.df)*test_ratio)\n",
    "        train_size = len(self.df)-test_size\n",
    "        X_te = self.X.tail(test_size)\n",
    "        X_tr = self.X.head(train_size)\n",
    "        y_te = self.y[-test_size:]\n",
    "        y_tr = self.y[:train_size]\n",
    "        return X_tr, y_tr, X_te, y_te\n",
    "    \n",
    "    def get_feature_importance(self, importances):\n",
    "        pairs = list(zip(self.X.columns, importances))\n",
    "        return pd.DataFrame(pairs, columns=[\"name\",\"value\"]).sort_values(\"value\")\n",
    "    \n",
    "tsf = TSFeatureCalculator(ts_df, \"date\", \"value\", True)\n",
    "tsf.generate_window_features(window_size=[3,7,14,30,60,90], window_stats=[\"mean\",\"std\"], min_periods=1)#, window_type=\"D\")"
   ]
  },
  {
   "cell_type": "code",
   "execution_count": 10,
   "id": "47f5015c",
   "metadata": {},
   "outputs": [
    {
     "name": "stdout",
     "output_type": "stream",
     "text": [
      "3658 1567\n"
     ]
    }
   ],
   "source": [
    "tsc = TSClassifier(tsf.df, \"value\", exclude=[\"date\",\"day_of_week\",\"month\",\"day_of_month\"])\n",
    "X_tr, y_tr, X_te, y_te = tsc.temporal_train_test_split()\n",
    "print(len(X_tr), len(X_te))"
   ]
  },
  {
   "cell_type": "code",
   "execution_count": 11,
   "id": "ae33f6e3",
   "metadata": {},
   "outputs": [
    {
     "name": "stdout",
     "output_type": "stream",
     "text": [
      "3870.2195128701114 0.015329814485910188\n",
      "3888.187783691275 0.015251206961550346\n",
      "3870.219491656252 0.01532981443283717\n",
      "3888.24801954974 0.015251336037053208\n",
      "4073.2335985355585 0.012211169606815515\n"
     ]
    },
    {
     "name": "stderr",
     "output_type": "stream",
     "text": [
      "/home/fberes/anaconda3/envs/py36/lib/python3.6/site-packages/sklearn/linear_model/_coordinate_descent.py:532: ConvergenceWarning: Objective did not converge. You might want to increase the number of iterations. Duality gap: 1882863922.7022967, tolerance: 812538.4337708098\n",
      "  positive)\n",
      "/home/fberes/anaconda3/envs/py36/lib/python3.6/site-packages/sklearn/linear_model/_coordinate_descent.py:532: ConvergenceWarning: Objective did not converge. You might want to increase the number of iterations. Duality gap: 1886057020.894016, tolerance: 812538.4337708098\n",
      "  positive)\n"
     ]
    },
    {
     "name": "stdout",
     "output_type": "stream",
     "text": [
      "4128.169631842453 0.012132645424092859\n"
     ]
    }
   ],
   "source": [
    "from sklearn.linear_model import LinearRegression, Lasso, Ridge, ElasticNet\n",
    "from sklearn.ensemble import GradientBoostingRegressor\n",
    "from sklearn.tree import DecisionTreeRegressor\n",
    "from sklearn.metrics import mean_squared_error, mean_absolute_percentage_error\n",
    "\n",
    "models = [LinearRegression(), Lasso(), Ridge(), ElasticNet(), DecisionTreeRegressor(max_depth=3), GradientBoostingRegressor(n_estimators=30, max_depth=3)]\n",
    "for model in models:\n",
    "    model.fit(X_tr, y_tr)\n",
    "    y_pred = model.predict(X_te)\n",
    "    rmse = np.sqrt(mean_squared_error(y_te, y_pred))\n",
    "    mape = mean_absolute_percentage_error(y_te, y_pred)\n",
    "    print(rmse, mape)"
   ]
  },
  {
   "cell_type": "code",
   "execution_count": 12,
   "id": "e458f801",
   "metadata": {},
   "outputs": [
    {
     "data": {
      "text/html": [
       "<div>\n",
       "<style scoped>\n",
       "    .dataframe tbody tr th:only-of-type {\n",
       "        vertical-align: middle;\n",
       "    }\n",
       "\n",
       "    .dataframe tbody tr th {\n",
       "        vertical-align: top;\n",
       "    }\n",
       "\n",
       "    .dataframe thead th {\n",
       "        text-align: right;\n",
       "    }\n",
       "</style>\n",
       "<table border=\"1\" class=\"dataframe\">\n",
       "  <thead>\n",
       "    <tr style=\"text-align: right;\">\n",
       "      <th></th>\n",
       "      <th>name</th>\n",
       "      <th>value</th>\n",
       "    </tr>\n",
       "  </thead>\n",
       "  <tbody>\n",
       "    <tr>\n",
       "      <th>11</th>\n",
       "      <td>90_mean</td>\n",
       "      <td>-1.142737</td>\n",
       "    </tr>\n",
       "    <tr>\n",
       "      <th>4</th>\n",
       "      <td>7_std</td>\n",
       "      <td>-0.682136</td>\n",
       "    </tr>\n",
       "    <tr>\n",
       "      <th>2</th>\n",
       "      <td>3_std</td>\n",
       "      <td>-0.429984</td>\n",
       "    </tr>\n",
       "    <tr>\n",
       "      <th>1</th>\n",
       "      <td>3_mean</td>\n",
       "      <td>-0.345907</td>\n",
       "    </tr>\n",
       "    <tr>\n",
       "      <th>7</th>\n",
       "      <td>30_mean</td>\n",
       "      <td>-0.221623</td>\n",
       "    </tr>\n",
       "    <tr>\n",
       "      <th>10</th>\n",
       "      <td>60_std</td>\n",
       "      <td>-0.126108</td>\n",
       "    </tr>\n",
       "    <tr>\n",
       "      <th>8</th>\n",
       "      <td>30_std</td>\n",
       "      <td>-0.098764</td>\n",
       "    </tr>\n",
       "    <tr>\n",
       "      <th>6</th>\n",
       "      <td>14_std</td>\n",
       "      <td>-0.020011</td>\n",
       "    </tr>\n",
       "    <tr>\n",
       "      <th>5</th>\n",
       "      <td>14_mean</td>\n",
       "      <td>-0.000224</td>\n",
       "    </tr>\n",
       "    <tr>\n",
       "      <th>12</th>\n",
       "      <td>90_std</td>\n",
       "      <td>0.009099</td>\n",
       "    </tr>\n",
       "    <tr>\n",
       "      <th>3</th>\n",
       "      <td>7_mean</td>\n",
       "      <td>0.446240</td>\n",
       "    </tr>\n",
       "    <tr>\n",
       "      <th>0</th>\n",
       "      <td>x</td>\n",
       "      <td>0.641936</td>\n",
       "    </tr>\n",
       "    <tr>\n",
       "      <th>9</th>\n",
       "      <td>60_mean</td>\n",
       "      <td>0.972284</td>\n",
       "    </tr>\n",
       "  </tbody>\n",
       "</table>\n",
       "</div>"
      ],
      "text/plain": [
       "       name     value\n",
       "11  90_mean -1.142737\n",
       "4     7_std -0.682136\n",
       "2     3_std -0.429984\n",
       "1    3_mean -0.345907\n",
       "7   30_mean -0.221623\n",
       "10   60_std -0.126108\n",
       "8    30_std -0.098764\n",
       "6    14_std -0.020011\n",
       "5   14_mean -0.000224\n",
       "12   90_std  0.009099\n",
       "3    7_mean  0.446240\n",
       "0         x  0.641936\n",
       "9   60_mean  0.972284"
      ]
     },
     "execution_count": 12,
     "metadata": {},
     "output_type": "execute_result"
    }
   ],
   "source": [
    "tsc.get_feature_importance(models[0].coef_)"
   ]
  },
  {
   "cell_type": "code",
   "execution_count": 13,
   "id": "39032313",
   "metadata": {},
   "outputs": [
    {
     "data": {
      "text/html": [
       "<div>\n",
       "<style scoped>\n",
       "    .dataframe tbody tr th:only-of-type {\n",
       "        vertical-align: middle;\n",
       "    }\n",
       "\n",
       "    .dataframe tbody tr th {\n",
       "        vertical-align: top;\n",
       "    }\n",
       "\n",
       "    .dataframe thead th {\n",
       "        text-align: right;\n",
       "    }\n",
       "</style>\n",
       "<table border=\"1\" class=\"dataframe\">\n",
       "  <thead>\n",
       "    <tr style=\"text-align: right;\">\n",
       "      <th></th>\n",
       "      <th>name</th>\n",
       "      <th>value</th>\n",
       "    </tr>\n",
       "  </thead>\n",
       "  <tbody>\n",
       "    <tr>\n",
       "      <th>2</th>\n",
       "      <td>3_std</td>\n",
       "      <td>0.000000</td>\n",
       "    </tr>\n",
       "    <tr>\n",
       "      <th>4</th>\n",
       "      <td>7_std</td>\n",
       "      <td>0.000000</td>\n",
       "    </tr>\n",
       "    <tr>\n",
       "      <th>6</th>\n",
       "      <td>14_std</td>\n",
       "      <td>0.000000</td>\n",
       "    </tr>\n",
       "    <tr>\n",
       "      <th>8</th>\n",
       "      <td>30_std</td>\n",
       "      <td>0.000040</td>\n",
       "    </tr>\n",
       "    <tr>\n",
       "      <th>9</th>\n",
       "      <td>60_mean</td>\n",
       "      <td>0.000068</td>\n",
       "    </tr>\n",
       "    <tr>\n",
       "      <th>10</th>\n",
       "      <td>60_std</td>\n",
       "      <td>0.000154</td>\n",
       "    </tr>\n",
       "    <tr>\n",
       "      <th>5</th>\n",
       "      <td>14_mean</td>\n",
       "      <td>0.000247</td>\n",
       "    </tr>\n",
       "    <tr>\n",
       "      <th>7</th>\n",
       "      <td>30_mean</td>\n",
       "      <td>0.000285</td>\n",
       "    </tr>\n",
       "    <tr>\n",
       "      <th>12</th>\n",
       "      <td>90_std</td>\n",
       "      <td>0.001007</td>\n",
       "    </tr>\n",
       "    <tr>\n",
       "      <th>11</th>\n",
       "      <td>90_mean</td>\n",
       "      <td>0.001992</td>\n",
       "    </tr>\n",
       "    <tr>\n",
       "      <th>3</th>\n",
       "      <td>7_mean</td>\n",
       "      <td>0.002430</td>\n",
       "    </tr>\n",
       "    <tr>\n",
       "      <th>1</th>\n",
       "      <td>3_mean</td>\n",
       "      <td>0.005093</td>\n",
       "    </tr>\n",
       "    <tr>\n",
       "      <th>0</th>\n",
       "      <td>x</td>\n",
       "      <td>0.988685</td>\n",
       "    </tr>\n",
       "  </tbody>\n",
       "</table>\n",
       "</div>"
      ],
      "text/plain": [
       "       name     value\n",
       "2     3_std  0.000000\n",
       "4     7_std  0.000000\n",
       "6    14_std  0.000000\n",
       "8    30_std  0.000040\n",
       "9   60_mean  0.000068\n",
       "10   60_std  0.000154\n",
       "5   14_mean  0.000247\n",
       "7   30_mean  0.000285\n",
       "12   90_std  0.001007\n",
       "11  90_mean  0.001992\n",
       "3    7_mean  0.002430\n",
       "1    3_mean  0.005093\n",
       "0         x  0.988685"
      ]
     },
     "execution_count": 13,
     "metadata": {},
     "output_type": "execute_result"
    }
   ],
   "source": [
    "tsc.get_feature_importance(models[-1].feature_importances_)"
   ]
  },
  {
   "cell_type": "markdown",
   "id": "982c6aab",
   "metadata": {},
   "source": [
    "# TODO: shap!!!"
   ]
  }
 ],
 "metadata": {
  "kernelspec": {
   "display_name": "Python 3",
   "language": "python",
   "name": "python3"
  },
  "language_info": {
   "codemirror_mode": {
    "name": "ipython",
    "version": 3
   },
   "file_extension": ".py",
   "mimetype": "text/x-python",
   "name": "python",
   "nbconvert_exporter": "python",
   "pygments_lexer": "ipython3",
   "version": "3.6.12"
  }
 },
 "nbformat": 4,
 "nbformat_minor": 5
}
